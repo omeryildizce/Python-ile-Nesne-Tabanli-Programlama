{
 "cells": [
  {
   "cell_type": "code",
   "execution_count": 1,
   "metadata": {},
   "outputs": [],
   "source": [
    "# parent\n",
    "class Animal:\n",
    "    def __init__(self):\n",
    "        print(\"Animal is created\")\n",
    "    def toString(self):\n",
    "        print(\"animal\")\n",
    "    def walk(self):\n",
    "        print(\"animal walk\")\n"
   ]
  },
  {
   "cell_type": "code",
   "execution_count": 2,
   "metadata": {},
   "outputs": [],
   "source": [
    "# child\n",
    "class Monkey(Animal):\n",
    "    def __init__(self):\n",
    "        super().__init__()    \n",
    "        print(\"Monkey is created\")\n",
    "    def toString(self):\n",
    "        print(\"monkey\")\n",
    "    def climb(self):\n",
    "        print(\"monkey can climb\")\n"
   ]
  },
  {
   "cell_type": "code",
   "execution_count": 5,
   "metadata": {},
   "outputs": [
    {
     "name": "stdout",
     "output_type": "stream",
     "text": [
      "Animal is created\n",
      "Monkey is created\n",
      "monkey can climb\n"
     ]
    }
   ],
   "source": [
    "m1 = Monkey()\n",
    "m1.climb()"
   ]
  },
  {
   "cell_type": "code",
   "execution_count": 6,
   "metadata": {},
   "outputs": [],
   "source": [
    "class A:\n",
    "    def __init__(self, i = 100):\n",
    "        self.i = i\n",
    "\n",
    "class B(A):\n",
    "    def __init__(self, j = 10):\n",
    "        self.j = j"
   ]
  },
  {
   "cell_type": "code",
   "execution_count": null,
   "metadata": {},
   "outputs": [],
   "source": []
  }
 ],
 "metadata": {
  "kernelspec": {
   "display_name": "Python 3.10.5 64-bit",
   "language": "python",
   "name": "python3"
  },
  "language_info": {
   "codemirror_mode": {
    "name": "ipython",
    "version": 3
   },
   "file_extension": ".py",
   "mimetype": "text/x-python",
   "name": "python",
   "nbconvert_exporter": "python",
   "pygments_lexer": "ipython3",
   "version": "3.10.5"
  },
  "orig_nbformat": 4,
  "vscode": {
   "interpreter": {
    "hash": "b885c526da3326e581d3a88563282ab625602807b12d7b4af8a2a7f32a015837"
   }
  }
 },
 "nbformat": 4,
 "nbformat_minor": 2
}
