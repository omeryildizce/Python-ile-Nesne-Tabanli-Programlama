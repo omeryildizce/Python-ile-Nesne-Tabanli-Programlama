{
 "cells": [
  {
   "cell_type": "code",
   "execution_count": 21,
   "metadata": {},
   "outputs": [],
   "source": [
    "class Calc(object):\n",
    "    \"Calculater\"\n",
    "    def __init__(self, sayi1=0, sayi2=0):\n",
    "        self.value1 = sayi1\n",
    "        self.value2 = sayi2\n",
    "    def add(self):\n",
    "        \"Toplama işlemi parametre1 * parametre2 = result -> return result\"\n",
    "        return self.value1 + self.value2\n",
    "        \n",
    "    def multiply(self):\n",
    "        \"Çarpma işlemi parametre1 * parametre2 = result -> return result\"\n",
    "        return self.value1 * self.value2"
   ]
  },
  {
   "cell_type": "code",
   "execution_count": 32,
   "metadata": {},
   "outputs": [],
   "source": [
    "def hesapla():\n",
    "    \n",
    "    print(f\"Toplama için {1} basınız.\\nÇarpma için {2} basınınız.\")\n",
    "    print(f\"Çıkış için farklı bir tuşa basınız.\")\n",
    "    deger = input()\n",
    "\n",
    "    if deger == \"1\" or deger == \"2\":\n",
    "        value1 = float(input(\"Sayı 1: \"))\n",
    "        value2 = float(input(\"Sayı 2: \"))\n",
    "        calculate = Calc(value1, value2)\n",
    "\n",
    "        if deger == \"1\":\n",
    "            print(f\"{(calculate.add()):.0f}\")\n",
    "        if deger == \"2\":\n",
    "            \"Hassasiyet 2\"\n",
    "            print(f\"{(calculate.multiply()):.2f}\")\n"
   ]
  },
  {
   "cell_type": "code",
   "execution_count": 31,
   "metadata": {},
   "outputs": [
    {
     "name": "stdout",
     "output_type": "stream",
     "text": [
      "Toplama için 1 basınız.\n",
      "Çarpma için 2 basınınız.\n",
      "Çıkış için farklı bir tuşa basınız.\n",
      "9.8816133938\n"
     ]
    }
   ],
   "source": [
    "hesapla()"
   ]
  },
  {
   "cell_type": "code",
   "execution_count": null,
   "metadata": {},
   "outputs": [],
   "source": []
  }
 ],
 "metadata": {
  "kernelspec": {
   "display_name": "Python 3.10.5 64-bit",
   "language": "python",
   "name": "python3"
  },
  "language_info": {
   "codemirror_mode": {
    "name": "ipython",
    "version": 3
   },
   "file_extension": ".py",
   "mimetype": "text/x-python",
   "name": "python",
   "nbconvert_exporter": "python",
   "pygments_lexer": "ipython3",
   "version": "3.10.5"
  },
  "orig_nbformat": 4,
  "vscode": {
   "interpreter": {
    "hash": "b885c526da3326e581d3a88563282ab625602807b12d7b4af8a2a7f32a015837"
   }
  }
 },
 "nbformat": 4,
 "nbformat_minor": 2
}
