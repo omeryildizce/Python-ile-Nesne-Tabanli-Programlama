{
 "cells": [
  {
   "cell_type": "code",
   "execution_count": 35,
   "metadata": {},
   "outputs": [],
   "source": [
    "class Website:\n",
    "    def __init__(self, name, surname):\n",
    "        \"\"\"name -> your name\\n\n",
    "         surname -> your surname\"\"\"\n",
    "        self.name = name\n",
    "        self.surname = surname\n",
    "\n",
    "    def loginInfo(self):\n",
    "        print(self.name + \" \"+ self.surname)"
   ]
  },
  {
   "cell_type": "code",
   "execution_count": 36,
   "metadata": {},
   "outputs": [],
   "source": [
    "p1 = Website(name=\"Ömer\", surname=\"YILDIZ\")"
   ]
  },
  {
   "cell_type": "code",
   "execution_count": 37,
   "metadata": {},
   "outputs": [
    {
     "name": "stdout",
     "output_type": "stream",
     "text": [
      "Ömer YILDIZ\n"
     ]
    }
   ],
   "source": [
    "p1.loginInfo()"
   ]
  },
  {
   "cell_type": "code",
   "execution_count": 45,
   "metadata": {},
   "outputs": [],
   "source": [
    "class Website1(Website):\n",
    "    \"Website child\"\n",
    "    def __init__(self, name, surname, id):\n",
    "        Website.__init__(self, name, surname )\n",
    "        self.id = id\n",
    "    \n",
    "    def login(self):\n",
    "        print(self.name + \" \"+ self.surname + \" \"+ self.id)\n"
   ]
  },
  {
   "cell_type": "code",
   "execution_count": 46,
   "metadata": {},
   "outputs": [],
   "source": [
    "p2 = Website1(name=\"Ömer\", surname=\"deniz\", id=\"123\")"
   ]
  },
  {
   "cell_type": "code",
   "execution_count": 47,
   "metadata": {},
   "outputs": [
    {
     "name": "stdout",
     "output_type": "stream",
     "text": [
      "Ömer deniz 123\n"
     ]
    }
   ],
   "source": [
    "p2.login()"
   ]
  },
  {
   "cell_type": "code",
   "execution_count": 48,
   "metadata": {},
   "outputs": [
    {
     "name": "stdout",
     "output_type": "stream",
     "text": [
      "Ömer deniz\n"
     ]
    }
   ],
   "source": [
    "p2.loginInfo()"
   ]
  },
  {
   "cell_type": "code",
   "execution_count": 49,
   "metadata": {},
   "outputs": [],
   "source": [
    "class Website2(Website):\n",
    "    def __init__(self, name, surname, email):\n",
    "        Website.__init__(self, name, surname)\n",
    "        self.email = email\n",
    "\n",
    "    def login(self):\n",
    "        print(self.name + \" \"+ self.surname + \" \"+ self.email)\n"
   ]
  },
  {
   "cell_type": "code",
   "execution_count": 56,
   "metadata": {},
   "outputs": [],
   "source": [
    "p3 = Website2(email=\"ali@mail.com\", name=\"Ali\", surname=\"Kaya\")"
   ]
  },
  {
   "cell_type": "code",
   "execution_count": 57,
   "metadata": {},
   "outputs": [
    {
     "name": "stdout",
     "output_type": "stream",
     "text": [
      "Ali Kaya ali@mail.com\n"
     ]
    }
   ],
   "source": [
    "p3.login()"
   ]
  },
  {
   "cell_type": "code",
   "execution_count": 58,
   "metadata": {},
   "outputs": [
    {
     "name": "stdout",
     "output_type": "stream",
     "text": [
      "Ali Kaya\n"
     ]
    }
   ],
   "source": [
    "p3.loginInfo()"
   ]
  },
  {
   "cell_type": "code",
   "execution_count": null,
   "metadata": {},
   "outputs": [],
   "source": []
  },
  {
   "cell_type": "code",
   "execution_count": null,
   "metadata": {},
   "outputs": [],
   "source": []
  }
 ],
 "metadata": {
  "kernelspec": {
   "display_name": "Python 3.10.5 64-bit",
   "language": "python",
   "name": "python3"
  },
  "language_info": {
   "codemirror_mode": {
    "name": "ipython",
    "version": 3
   },
   "file_extension": ".py",
   "mimetype": "text/x-python",
   "name": "python",
   "nbconvert_exporter": "python",
   "pygments_lexer": "ipython3",
   "version": "3.10.5"
  },
  "orig_nbformat": 4,
  "vscode": {
   "interpreter": {
    "hash": "b885c526da3326e581d3a88563282ab625602807b12d7b4af8a2a7f32a015837"
   }
  }
 },
 "nbformat": 4,
 "nbformat_minor": 2
}
